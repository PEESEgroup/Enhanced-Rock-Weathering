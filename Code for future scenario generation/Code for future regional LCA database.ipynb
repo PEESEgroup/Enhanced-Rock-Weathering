{
 "cells": [
  {
   "cell_type": "markdown",
   "metadata": {},
   "source": [
    "A project gets instantiated and relevant libraries/modules imported."
   ]
  },
  {
   "cell_type": "code",
   "execution_count": null,
   "metadata": {},
   "outputs": [],
   "source": [
    "import os\n",
    "import matplotlib.pyplot as plt\n",
    "import numpy as np\n",
    "import pandas as pd\n",
    "import brightway2 as bw\n",
    "from brightway2 import *\n",
    "from bw2data.parameters import ActivityParameter, DatabaseParameter, ProjectParameter, Group"
   ]
  },
  {
   "cell_type": "markdown",
   "metadata": {},
   "source": [
    "Built the ERW project"
   ]
  },
  {
   "cell_type": "code",
   "execution_count": null,
   "metadata": {},
   "outputs": [],
   "source": [
    "list(bw.projects)\n",
    "bw.projects.set_current(\"ERW\") #Creating/accessing the project\n",
    "bw.bw2setup() #Importing elementary flows, LCIA methods and some other data"
   ]
  },
  {
   "cell_type": "code",
   "execution_count": null,
   "metadata": {
    "scrolled": true
   },
   "outputs": [],
   "source": [
    "bw2data.databases\n",
    "list(bw2data.databases)"
   ]
  },
  {
   "cell_type": "markdown",
   "metadata": {},
   "source": [
    "Get database"
   ]
  },
  {
   "cell_type": "code",
   "execution_count": null,
   "metadata": {},
   "outputs": [],
   "source": [
    "import zipfile\n",
    "from bw2data.utils import download_file\n",
    "\n",
    "if 'forwast' in bw.databases:\n",
    "    print(\"Database has already been imported.\")\n",
    "else:\n",
    "    filepath = download_file(\"forwast.bw2package.zip\", url=\"http://lca-net.com/wp-content/uploads/\")\n",
    "    dirpath = os.path.dirname(filepath)\n",
    "    zipfile.ZipFile(filepath).extractall(dirpath)\n",
    "    BW2Package.import_file(os.path.join(dirpath, \"forwast.bw2package\"))"
   ]
  },
  {
   "cell_type": "code",
   "execution_count": null,
   "metadata": {},
   "outputs": [],
   "source": [
    "fpei35cut = r\"C:\\Users\\Lenovo\\AppData\\Local\\pylca\\Brightway3\\ecoinvent 3.8_cutoff_ecoSpold02\\datasets\"\n",
    "# the \"r\" makes sure that the path is read as a string - especially useful when you have spaces in your string\n",
    "ei35cut = bw.SingleOutputEcospold2Importer(fpei35cut, 'ecoinvent 3.8_cutoff_ecoSpold02')\n",
    "ei35cut\n",
    "ei35cut.apply_strategies()\n",
    "ei35cut.statistics()"
   ]
  },
  {
   "cell_type": "markdown",
   "metadata": {},
   "source": [
    "Store database in the brightway3"
   ]
  },
  {
   "cell_type": "code",
   "execution_count": null,
   "metadata": {},
   "outputs": [],
   "source": [
    "ei35cut.write_database()"
   ]
  },
  {
   "cell_type": "markdown",
   "metadata": {},
   "source": [
    "Build future databases for LCA in different regions, scenarios, and time via premise tool"
   ]
  },
  {
   "cell_type": "code",
   "execution_count": null,
   "metadata": {},
   "outputs": [],
   "source": [
    "clear_cache()"
   ]
  },
  {
   "cell_type": "code",
   "execution_count": null,
   "metadata": {},
   "outputs": [],
   "source": [
    "ndb = NewDatabase(\n",
    "    scenarios=[\n",
    "        {\"model\":\"image\", \"pathway\":\"SSP2-RCP19\", \"year\":2025},\n",
    "        {\"model\":\"image\", \"pathway\":\"SSP2-RCP19\", \"year\":2035},\n",
    "        {\"model\":\"image\", \"pathway\":\"SSP2-RCP19\", \"year\":2045},\n",
    "        {\"model\":\"image\", \"pathway\":\"SSP2-RCP26\", \"year\":2025},\n",
    "        {\"model\":\"image\", \"pathway\":\"SSP2-RCP26\", \"year\":2035},\n",
    "        {\"model\":\"image\", \"pathway\":\"SSP2-RCP26\", \"year\":2045},\n",
    "        {\"model\":\"image\", \"pathway\":\"SSP2-Base\", \"year\":2025},\n",
    "        {\"model\":\"image\", \"pathway\":\"SSP2-Base\", \"year\":2035},\n",
    "        {\"model\":\"image\", \"pathway\":\"SSP2-Base\", \"year\":2045},\n",
    "    ],\n",
    "    source_db=\"ecoinvent 3.8_cutoff_ecoSpold02\", # <-- name of the database in the BW2 project. Must be a string.\n",
    "    source_version=\"3.8\", # <-- version of ecoinvent. Can be \"3.5\", \"3.6\", \"3.7\" or \"3.8\". Must be a string.\n",
    "    key='xxx' # <-- decryption key\n",
    "    # to be requested from the library maintainers if you want ot use default scenarios included in `premise`\n",
    ")"
   ]
  },
  {
   "cell_type": "code",
   "execution_count": null,
   "metadata": {},
   "outputs": [],
   "source": [
    "ndb = NewDatabase(\n",
    "    scenarios=[\n",
    "        {\"model\":\"image\", \"pathway\":\"SSP2-Base\", \"year\":2030},\n",
    "        {\"model\":\"image\", \"pathway\":\"SSP2-Base\", \"year\":2040},\n",
    "    ],\n",
    "    source_db=\"ecoinvent 3.8_cutoff_ecoSpold02\", # <-- name of the database in the BW2 project. Must be a string.\n",
    "    source_version=\"3.8\", # <-- version of ecoinvent. Can be \"3.5\", \"3.6\", \"3.7\" or \"3.8\". Must be a string.\n",
    "    key='tUePmX_S5B8ieZkkM7WUU2CnO8SmShwmAeWK9x2rTFo=' # <-- decryption key\n",
    "    # to be requested from the library maintainers if you want ot use default scenarios included in `premise`\n",
    ")"
   ]
  },
  {
   "cell_type": "code",
   "execution_count": null,
   "metadata": {},
   "outputs": [],
   "source": [
    "ndb = NewDatabase(\n",
    "    scenarios=[\n",
    "        {\"model\":\"image\", \"pathway\":\"SSP2-Base\", \"year\":2050},\n",
    "    ],\n",
    "    source_db=\"ecoinvent 3.8_cutoff_ecoSpold02\", # <-- name of the database in the BW2 project. Must be a string.\n",
    "    source_version=\"3.8\", # <-- version of ecoinvent. Can be \"3.5\", \"3.6\", \"3.7\" or \"3.8\". Must be a string.\n",
    "    key='tUePmX_S5B8ieZkkM7WUU2CnO8SmShwmAeWK9x2rTFo=' # <-- decryption key\n",
    "    # to be requested from the library maintainers if you want ot use default scenarios included in `premise`\n",
    ")"
   ]
  },
  {
   "cell_type": "code",
   "execution_count": null,
   "metadata": {},
   "outputs": [],
   "source": [
    "ndb.update_electricity()"
   ]
  },
  {
   "cell_type": "code",
   "execution_count": null,
   "metadata": {},
   "outputs": [],
   "source": [
    "ndb.write_db_to_brightway()"
   ]
  },
  {
   "cell_type": "code",
   "execution_count": null,
   "metadata": {},
   "outputs": [],
   "source": [
    "ndb.update_all()"
   ]
  },
  {
   "cell_type": "code",
   "execution_count": null,
   "metadata": {},
   "outputs": [],
   "source": [
    "ndb.write_db_to_brightway()"
   ]
  }
 ],
 "metadata": {
  "kernelspec": {
   "display_name": "name",
   "language": "python",
   "name": "name"
  },
  "language_info": {
   "codemirror_mode": {
    "name": "ipython",
    "version": 3
   },
   "file_extension": ".py",
   "mimetype": "text/x-python",
   "name": "python",
   "nbconvert_exporter": "python",
   "pygments_lexer": "ipython3",
   "version": "3.9.13"
  }
 },
 "nbformat": 4,
 "nbformat_minor": 4
}
